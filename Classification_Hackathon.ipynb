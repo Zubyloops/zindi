{
  "nbformat": 4,
  "nbformat_minor": 0,
  "metadata": {
    "colab": {
      "name": "Classification Hackathon.ipynb",
      "version": "0.3.2",
      "provenance": [],
      "include_colab_link": true
    },
    "kernelspec": {
      "name": "python3",
      "display_name": "Python 3"
    },
    "accelerator": "GPU"
  },
  "cells": [
    {
      "cell_type": "markdown",
      "metadata": {
        "id": "view-in-github",
        "colab_type": "text"
      },
      "source": [
        "<a href=\"https://colab.research.google.com/github/Zubyloops/zindi/blob/master/Classification_Hackathon.ipynb\" target=\"_parent\"><img src=\"https://colab.research.google.com/assets/colab-badge.svg\" alt=\"Open In Colab\"/></a>"
      ]
    },
    {
      "cell_type": "markdown",
      "metadata": {
        "id": "NlIM8kPqjkcW",
        "colab_type": "text"
      },
      "source": [
        "## Honour Code\n",
        "I Zubair, Samsodien confirm - by submitting my - that the solutions in this notebook are a result of my own work and that I abide by the EDSA honour code (https://drive.google.com/file/d/1QDCjGZJ8-FmJE3bZdIQNwnJyQKPhHZBn/view?usp=sharing).\n",
        "\n",
        "Non-compliance with the honour code constitutes a material breach of contract."
      ]
    },
    {
      "cell_type": "code",
      "metadata": {
        "id": "ubyuOQZakOeJ",
        "colab_type": "code",
        "colab": {}
      },
      "source": [
        "\"\"\"Import Builtin Python Modules\"\"\"\n",
        "import string\n",
        "import numpy as np\n",
        "import pandas as pd\n",
        "import matplotlib.pyplot as plt\n",
        "import seaborn as sns\n",
        "sns.set(style='darkgrid', context='notebook', palette='viridis')\n",
        "sns.despine(top=True, right=True)\n",
        "\n",
        "import datetime\n",
        "import re\n",
        "import io\n",
        "\n",
        "%matplotlib inline\n",
        "\n",
        "from imblearn.over_sampling import SMOTE\n",
        "\n",
        "\"\"\"Import SciKit Learn Modules\"\"\"\n",
        "from sklearn.pipeline import Pipeline\n",
        "from sklearn.model_selection import train_test_split\n",
        "from sklearn.ensemble import RandomForestClassifier\n",
        "\n",
        "from sklearn.preprocessing import StandardScaler ,LabelEncoder\n",
        "from sklearn.linear_model import LogisticRegression,SGDClassifier\n",
        "\n",
        "from sklearn.metrics import classification_report, accuracy_score, log_loss, confusion_matrix"
      ],
      "execution_count": 0,
      "outputs": []
    },
    {
      "cell_type": "markdown",
      "metadata": {
        "id": "U09Bn94OF4qa",
        "colab_type": "text"
      },
      "source": [
        "# Data import"
      ]
    },
    {
      "cell_type": "markdown",
      "metadata": {
        "id": "UxJctSeTj16b",
        "colab_type": "text"
      },
      "source": [
        ""
      ]
    },
    {
      "cell_type": "markdown",
      "metadata": {
        "id": "oP29Nzxc7xUW",
        "colab_type": "text"
      },
      "source": [
        "from google.colab import files\n",
        "uploaded = files.upload()"
      ]
    },
    {
      "cell_type": "code",
      "metadata": {
        "id": "krAh7wStX1mk",
        "colab_type": "code",
        "colab": {}
      },
      "source": [
        "training = pd.read_csv('training.csv')\n",
        "testing = pd.read_csv('test.csv')"
      ],
      "execution_count": 0,
      "outputs": []
    },
    {
      "cell_type": "code",
      "metadata": {
        "id": "QHL885txFkLG",
        "colab_type": "code",
        "colab": {}
      },
      "source": [
        "train= training.copy()\n",
        "test = testing.copy()"
      ],
      "execution_count": 0,
      "outputs": []
    },
    {
      "cell_type": "code",
      "metadata": {
        "id": "XwdKCwNwFweS",
        "colab_type": "code",
        "outputId": "f8f381ce-6031-45e2-eb08-b693718b8cdf",
        "colab": {
          "base_uri": "https://localhost:8080/",
          "height": 33
        }
      },
      "source": [
        "train.shape,test.shape"
      ],
      "execution_count": 0,
      "outputs": [
        {
          "output_type": "execute_result",
          "data": {
            "text/plain": [
              "((95662, 16), (45019, 15))"
            ]
          },
          "metadata": {
            "tags": []
          },
          "execution_count": 51
        }
      ]
    },
    {
      "cell_type": "code",
      "metadata": {
        "id": "Ifhc2ZmSFw9m",
        "colab_type": "code",
        "colab": {}
      },
      "source": [
        "df = pd.concat([train, test], axis = 0, sort=False)"
      ],
      "execution_count": 0,
      "outputs": []
    },
    {
      "cell_type": "markdown",
      "metadata": {
        "id": "Pp1eVnlYFy-y",
        "colab_type": "text"
      },
      "source": [
        "# Data Cleaning"
      ]
    },
    {
      "cell_type": "code",
      "metadata": {
        "id": "qKPDRIL8F172",
        "colab_type": "code",
        "outputId": "5431eea2-bbb7-4754-932e-941953e16bce",
        "colab": {
          "base_uri": "https://localhost:8080/",
          "height": 53
        }
      },
      "source": [
        "\"\"\"Python\n",
        "col = [\"TransactionId\",\"BatchId\",\"AccountId\",\"SubscriptionId\",\"CustomerId\",\"ProviderId\",\"ProductId\",\"ChannelId\"]\n",
        "df[col] = df[col].replace(to_replace = r'\\D+', value = '', regex = True)\n",
        "#df[\"TransactionStartTime\"] = df[\"TransactionStartTime\"].replace(to_replace = r'\\D+', value = ' ', regex = True)\n",
        "\n",
        "df[\"TransactionStartTime\"] = pd.to_date[link text](https://)time(df[\"TransactionStartTime\"])\n",
        "df[\"TransactionStartTime\"]= df[\"TransactionStartTime\"].values.astype('datetime64[s]')\n",
        "df['TransactionStartTime'] = df['TransactionStartTime'].astype(object)\n",
        "\n",
        "id_col =[\"TransactionId\",\"BatchId\",\"AccountId\",\"SubscriptionId\",\"SubscriptionId\"]\n",
        "df[id_col]= df[id_col].values.astype(int)\"\"\""
      ],
      "execution_count": 0,
      "outputs": [
        {
          "output_type": "execute_result",
          "data": {
            "text/plain": [
              "'Python\\ncol = [\"TransactionId\",\"BatchId\",\"AccountId\",\"SubscriptionId\",\"CustomerId\",\"ProviderId\",\"ProductId\",\"ChannelId\"]\\ndf[col] = df[col].replace(to_replace = r\\'\\\\D+\\', value = \\'\\', regex = True)\\n#df[\"TransactionStartTime\"] = df[\"TransactionStartTime\"].replace(to_replace = r\\'\\\\D+\\', value = \\' \\', regex = True)\\n\\ndf[\"TransactionStartTime\"] = pd.to_date[link text](https://)time(df[\"TransactionStartTime\"])\\ndf[\"TransactionStartTime\"]= df[\"TransactionStartTime\"].values.astype(\\'datetime64[s]\\')\\ndf[\\'TransactionStartTime\\'] = df[\\'TransactionStartTime\\'].astype(object)\\n\\nid_col =[\"TransactionId\",\"BatchId\",\"AccountId\",\"SubscriptionId\",\"SubscriptionId\"]\\ndf[id_col]= df[id_col].values.astype(int)'"
            ]
          },
          "metadata": {
            "tags": []
          },
          "execution_count": 53
        }
      ]
    },
    {
      "cell_type": "markdown",
      "metadata": {
        "id": "iNttMSjel8JV",
        "colab_type": "text"
      },
      "source": [
        "df['diff_seconds'] = df['TransactionStartTime'] - df['TransactionStartTime'].shift(1)\n",
        "df['diff_seconds']=df['diff_seconds']/np.timedelta64(1,'s')\n",
        "\n",
        "\n",
        "df['diff_seconds'].iloc[0] = 0"
      ]
    },
    {
      "cell_type": "markdown",
      "metadata": {
        "id": "tMBCqlAuZa8C",
        "colab_type": "text"
      },
      "source": [
        "# Encoding"
      ]
    },
    {
      "cell_type": "code",
      "metadata": {
        "id": "BAu-FxjEYJcG",
        "colab_type": "code",
        "colab": {}
      },
      "source": [
        "\n",
        "sc = StandardScaler()\n",
        "df['normAmount'] = sc.fit_transform(df['Amount'].values.reshape(-1, 1))\n",
        "df['normValue'] = sc.fit_transform(df['Value'].values.reshape(-1, 1))\n"
      ],
      "execution_count": 0,
      "outputs": []
    },
    {
      "cell_type": "code",
      "metadata": {
        "id": "vCWIuU7hF_ED",
        "colab_type": "code",
        "colab": {}
      },
      "source": [
        "df.drop([\"CurrencyCode\",\"CountryCode\",'Amount','Value',\"TransactionStartTime\"],axis=1,inplace= True)"
      ],
      "execution_count": 0,
      "outputs": []
    },
    {
      "cell_type": "code",
      "metadata": {
        "id": "sQZ7EcBDpM_2",
        "colab_type": "code",
        "outputId": "1bec356f-a381-487a-a85e-e61d4d12a2d4",
        "colab": {
          "base_uri": "https://localhost:8080/",
          "height": 318
        }
      },
      "source": [
        "df.info()"
      ],
      "execution_count": 0,
      "outputs": [
        {
          "output_type": "stream",
          "text": [
            "<class 'pandas.core.frame.DataFrame'>\n",
            "Int64Index: 140681 entries, 0 to 45018\n",
            "Data columns (total 13 columns):\n",
            "TransactionId      140681 non-null int64\n",
            "BatchId            140681 non-null object\n",
            "AccountId          140681 non-null object\n",
            "SubscriptionId     140681 non-null object\n",
            "CustomerId         140681 non-null object\n",
            "ProviderId         140681 non-null object\n",
            "ProductId          140681 non-null object\n",
            "ProductCategory    140681 non-null object\n",
            "ChannelId          140681 non-null object\n",
            "PricingStrategy    140681 non-null int64\n",
            "FraudResult        95662 non-null float64\n",
            "normAmount         140681 non-null float64\n",
            "normValue          140681 non-null float64\n",
            "dtypes: float64(3), int64(2), object(8)\n",
            "memory usage: 15.0+ MB\n"
          ],
          "name": "stdout"
        }
      ]
    },
    {
      "cell_type": "code",
      "metadata": {
        "id": "ONdQ496UqzHg",
        "colab_type": "code",
        "colab": {}
      },
      "source": [
        "le = LabelEncoder()\n",
        "df['ProductCategory'] = le.fit_transform(df.ProductCategory.values)"
      ],
      "execution_count": 0,
      "outputs": []
    },
    {
      "cell_type": "code",
      "metadata": {
        "id": "7GNc4sEbrBLs",
        "colab_type": "code",
        "outputId": "f43fdf72-11f1-485c-98c2-91c9073abe7e",
        "colab": {
          "base_uri": "https://localhost:8080/",
          "height": 216
        }
      },
      "source": [
        "df.head()"
      ],
      "execution_count": 0,
      "outputs": [
        {
          "output_type": "execute_result",
          "data": {
            "text/html": [
              "<div>\n",
              "<style scoped>\n",
              "    .dataframe tbody tr th:only-of-type {\n",
              "        vertical-align: middle;\n",
              "    }\n",
              "\n",
              "    .dataframe tbody tr th {\n",
              "        vertical-align: top;\n",
              "    }\n",
              "\n",
              "    .dataframe thead th {\n",
              "        text-align: right;\n",
              "    }\n",
              "</style>\n",
              "<table border=\"1\" class=\"dataframe\">\n",
              "  <thead>\n",
              "    <tr style=\"text-align: right;\">\n",
              "      <th></th>\n",
              "      <th>TransactionId</th>\n",
              "      <th>BatchId</th>\n",
              "      <th>AccountId</th>\n",
              "      <th>SubscriptionId</th>\n",
              "      <th>CustomerId</th>\n",
              "      <th>ProviderId</th>\n",
              "      <th>ProductId</th>\n",
              "      <th>ProductCategory</th>\n",
              "      <th>ChannelId</th>\n",
              "      <th>PricingStrategy</th>\n",
              "      <th>FraudResult</th>\n",
              "      <th>normAmount</th>\n",
              "      <th>normValue</th>\n",
              "    </tr>\n",
              "  </thead>\n",
              "  <tbody>\n",
              "    <tr>\n",
              "      <th>0</th>\n",
              "      <td>76871</td>\n",
              "      <td>36123</td>\n",
              "      <td>3957</td>\n",
              "      <td>887</td>\n",
              "      <td>4406</td>\n",
              "      <td>6</td>\n",
              "      <td>10</td>\n",
              "      <td>0</td>\n",
              "      <td>3</td>\n",
              "      <td>2</td>\n",
              "      <td>0.0</td>\n",
              "      <td>-0.043799</td>\n",
              "      <td>-0.078466</td>\n",
              "    </tr>\n",
              "    <tr>\n",
              "      <th>1</th>\n",
              "      <td>73770</td>\n",
              "      <td>15642</td>\n",
              "      <td>4841</td>\n",
              "      <td>3829</td>\n",
              "      <td>4406</td>\n",
              "      <td>4</td>\n",
              "      <td>6</td>\n",
              "      <td>2</td>\n",
              "      <td>2</td>\n",
              "      <td>2</td>\n",
              "      <td>0.0</td>\n",
              "      <td>-0.052644</td>\n",
              "      <td>-0.086983</td>\n",
              "    </tr>\n",
              "    <tr>\n",
              "      <th>2</th>\n",
              "      <td>26203</td>\n",
              "      <td>53941</td>\n",
              "      <td>4229</td>\n",
              "      <td>222</td>\n",
              "      <td>4683</td>\n",
              "      <td>6</td>\n",
              "      <td>1</td>\n",
              "      <td>0</td>\n",
              "      <td>3</td>\n",
              "      <td>2</td>\n",
              "      <td>0.0</td>\n",
              "      <td>-0.048135</td>\n",
              "      <td>-0.082812</td>\n",
              "    </tr>\n",
              "    <tr>\n",
              "      <th>3</th>\n",
              "      <td>380</td>\n",
              "      <td>102363</td>\n",
              "      <td>648</td>\n",
              "      <td>2185</td>\n",
              "      <td>988</td>\n",
              "      <td>1</td>\n",
              "      <td>21</td>\n",
              "      <td>9</td>\n",
              "      <td>3</td>\n",
              "      <td>2</td>\n",
              "      <td>0.0</td>\n",
              "      <td>0.120970</td>\n",
              "      <td>0.102305</td>\n",
              "    </tr>\n",
              "    <tr>\n",
              "      <th>4</th>\n",
              "      <td>28195</td>\n",
              "      <td>38780</td>\n",
              "      <td>4841</td>\n",
              "      <td>3829</td>\n",
              "      <td>988</td>\n",
              "      <td>4</td>\n",
              "      <td>6</td>\n",
              "      <td>2</td>\n",
              "      <td>2</td>\n",
              "      <td>2</td>\n",
              "      <td>0.0</td>\n",
              "      <td>-0.058056</td>\n",
              "      <td>-0.081560</td>\n",
              "    </tr>\n",
              "  </tbody>\n",
              "</table>\n",
              "</div>"
            ],
            "text/plain": [
              "   TransactionId BatchId AccountId  ... FraudResult normAmount normValue\n",
              "0          76871   36123      3957  ...         0.0  -0.043799 -0.078466\n",
              "1          73770   15642      4841  ...         0.0  -0.052644 -0.086983\n",
              "2          26203   53941      4229  ...         0.0  -0.048135 -0.082812\n",
              "3            380  102363       648  ...         0.0   0.120970  0.102305\n",
              "4          28195   38780      4841  ...         0.0  -0.058056 -0.081560\n",
              "\n",
              "[5 rows x 13 columns]"
            ]
          },
          "metadata": {
            "tags": []
          },
          "execution_count": 60
        }
      ]
    },
    {
      "cell_type": "code",
      "metadata": {
        "id": "A4HprDZdGBRT",
        "colab_type": "code",
        "colab": {}
      },
      "source": [
        "df1 = pd.get_dummies(df,drop_first=True,columns =[\"ProductCategory\",\"ProviderId\",\"ProductId\",\"ChannelId\",\"PricingStrategy\"])"
      ],
      "execution_count": 0,
      "outputs": []
    },
    {
      "cell_type": "code",
      "metadata": {
        "id": "bHWNVLU8wXsX",
        "colab_type": "code",
        "outputId": "bc3fba31-9e2b-4e54-a93e-321d51319e88",
        "colab": {
          "base_uri": "https://localhost:8080/",
          "height": 1000
        }
      },
      "source": [
        "df1.info()"
      ],
      "execution_count": 0,
      "outputs": [
        {
          "output_type": "stream",
          "text": [
            "<class 'pandas.core.frame.DataFrame'>\n",
            "Int64Index: 140681 entries, 0 to 45018\n",
            "Data columns (total 55 columns):\n",
            "TransactionId        140681 non-null int64\n",
            "BatchId              140681 non-null object\n",
            "AccountId            140681 non-null object\n",
            "SubscriptionId       140681 non-null object\n",
            "CustomerId           140681 non-null object\n",
            "FraudResult          95662 non-null float64\n",
            "normAmount           140681 non-null float64\n",
            "normValue            140681 non-null float64\n",
            "ProductCategory_1    140681 non-null uint8\n",
            "ProductCategory_2    140681 non-null uint8\n",
            "ProductCategory_3    140681 non-null uint8\n",
            "ProductCategory_4    140681 non-null uint8\n",
            "ProductCategory_5    140681 non-null uint8\n",
            "ProductCategory_6    140681 non-null uint8\n",
            "ProductCategory_7    140681 non-null uint8\n",
            "ProductCategory_8    140681 non-null uint8\n",
            "ProductCategory_9    140681 non-null uint8\n",
            "ProviderId_2         140681 non-null uint8\n",
            "ProviderId_3         140681 non-null uint8\n",
            "ProviderId_4         140681 non-null uint8\n",
            "ProviderId_5         140681 non-null uint8\n",
            "ProviderId_6         140681 non-null uint8\n",
            "ProductId_10         140681 non-null uint8\n",
            "ProductId_11         140681 non-null uint8\n",
            "ProductId_12         140681 non-null uint8\n",
            "ProductId_13         140681 non-null uint8\n",
            "ProductId_14         140681 non-null uint8\n",
            "ProductId_15         140681 non-null uint8\n",
            "ProductId_16         140681 non-null uint8\n",
            "ProductId_17         140681 non-null uint8\n",
            "ProductId_18         140681 non-null uint8\n",
            "ProductId_19         140681 non-null uint8\n",
            "ProductId_2          140681 non-null uint8\n",
            "ProductId_20         140681 non-null uint8\n",
            "ProductId_21         140681 non-null uint8\n",
            "ProductId_22         140681 non-null uint8\n",
            "ProductId_23         140681 non-null uint8\n",
            "ProductId_24         140681 non-null uint8\n",
            "ProductId_25         140681 non-null uint8\n",
            "ProductId_26         140681 non-null uint8\n",
            "ProductId_27         140681 non-null uint8\n",
            "ProductId_3          140681 non-null uint8\n",
            "ProductId_4          140681 non-null uint8\n",
            "ProductId_5          140681 non-null uint8\n",
            "ProductId_6          140681 non-null uint8\n",
            "ProductId_7          140681 non-null uint8\n",
            "ProductId_8          140681 non-null uint8\n",
            "ProductId_9          140681 non-null uint8\n",
            "ChannelId_2          140681 non-null uint8\n",
            "ChannelId_3          140681 non-null uint8\n",
            "ChannelId_4          140681 non-null uint8\n",
            "ChannelId_5          140681 non-null uint8\n",
            "PricingStrategy_1    140681 non-null uint8\n",
            "PricingStrategy_2    140681 non-null uint8\n",
            "PricingStrategy_4    140681 non-null uint8\n",
            "dtypes: float64(3), int64(1), object(4), uint8(47)\n",
            "memory usage: 16.0+ MB\n"
          ],
          "name": "stdout"
        }
      ]
    },
    {
      "cell_type": "markdown",
      "metadata": {
        "id": "-_SJMwyDHk7l",
        "colab_type": "text"
      },
      "source": [
        "print(len(df.AccountId.unique()))\n",
        "\n",
        "print(len(df.CustomerId.unique()))\n",
        "print(len(df.SubscriptionId.unique()))\n",
        "print(len(df.BatchId.unique()))\n",
        "print(len(df.TransactionId.unique()))"
      ]
    },
    {
      "cell_type": "code",
      "metadata": {
        "id": "3szukwv4kFAo",
        "colab_type": "code",
        "outputId": "ffa893ff-98e4-4fa6-eb28-1aab506ca481",
        "colab": {
          "base_uri": "https://localhost:8080/",
          "height": 216
        }
      },
      "source": [
        "df1.head()"
      ],
      "execution_count": 0,
      "outputs": [
        {
          "output_type": "execute_result",
          "data": {
            "text/html": [
              "<div>\n",
              "<style scoped>\n",
              "    .dataframe tbody tr th:only-of-type {\n",
              "        vertical-align: middle;\n",
              "    }\n",
              "\n",
              "    .dataframe tbody tr th {\n",
              "        vertical-align: top;\n",
              "    }\n",
              "\n",
              "    .dataframe thead th {\n",
              "        text-align: right;\n",
              "    }\n",
              "</style>\n",
              "<table border=\"1\" class=\"dataframe\">\n",
              "  <thead>\n",
              "    <tr style=\"text-align: right;\">\n",
              "      <th></th>\n",
              "      <th>TransactionId</th>\n",
              "      <th>BatchId</th>\n",
              "      <th>AccountId</th>\n",
              "      <th>SubscriptionId</th>\n",
              "      <th>CustomerId</th>\n",
              "      <th>FraudResult</th>\n",
              "      <th>diff_seconds</th>\n",
              "      <th>normAmount</th>\n",
              "      <th>normValue</th>\n",
              "      <th>ProductCategory_1</th>\n",
              "      <th>ProductCategory_2</th>\n",
              "      <th>ProductCategory_3</th>\n",
              "      <th>ProductCategory_4</th>\n",
              "      <th>ProductCategory_5</th>\n",
              "      <th>ProductCategory_6</th>\n",
              "      <th>ProductCategory_7</th>\n",
              "      <th>ProductCategory_8</th>\n",
              "      <th>ProductCategory_9</th>\n",
              "      <th>ProviderId_2</th>\n",
              "      <th>ProviderId_3</th>\n",
              "      <th>ProviderId_4</th>\n",
              "      <th>ProviderId_5</th>\n",
              "      <th>ProviderId_6</th>\n",
              "      <th>ProductId_10</th>\n",
              "      <th>ProductId_11</th>\n",
              "      <th>ProductId_12</th>\n",
              "      <th>ProductId_13</th>\n",
              "      <th>ProductId_14</th>\n",
              "      <th>ProductId_15</th>\n",
              "      <th>ProductId_16</th>\n",
              "      <th>ProductId_17</th>\n",
              "      <th>ProductId_18</th>\n",
              "      <th>ProductId_19</th>\n",
              "      <th>ProductId_2</th>\n",
              "      <th>ProductId_20</th>\n",
              "      <th>ProductId_21</th>\n",
              "      <th>ProductId_22</th>\n",
              "      <th>ProductId_23</th>\n",
              "      <th>ProductId_24</th>\n",
              "      <th>ProductId_25</th>\n",
              "      <th>ProductId_26</th>\n",
              "      <th>ProductId_27</th>\n",
              "      <th>ProductId_3</th>\n",
              "      <th>ProductId_4</th>\n",
              "      <th>ProductId_5</th>\n",
              "      <th>ProductId_6</th>\n",
              "      <th>ProductId_7</th>\n",
              "      <th>ProductId_8</th>\n",
              "      <th>ProductId_9</th>\n",
              "      <th>ChannelId_2</th>\n",
              "      <th>ChannelId_3</th>\n",
              "      <th>ChannelId_4</th>\n",
              "      <th>ChannelId_5</th>\n",
              "      <th>PricingStrategy_1</th>\n",
              "      <th>PricingStrategy_2</th>\n",
              "      <th>PricingStrategy_4</th>\n",
              "    </tr>\n",
              "  </thead>\n",
              "  <tbody>\n",
              "    <tr>\n",
              "      <th>0</th>\n",
              "      <td>76871</td>\n",
              "      <td>36123</td>\n",
              "      <td>3957</td>\n",
              "      <td>887</td>\n",
              "      <td>4406</td>\n",
              "      <td>0.0</td>\n",
              "      <td>0.0</td>\n",
              "      <td>-0.043799</td>\n",
              "      <td>-0.078466</td>\n",
              "      <td>0</td>\n",
              "      <td>0</td>\n",
              "      <td>0</td>\n",
              "      <td>0</td>\n",
              "      <td>0</td>\n",
              "      <td>0</td>\n",
              "      <td>0</td>\n",
              "      <td>0</td>\n",
              "      <td>0</td>\n",
              "      <td>0</td>\n",
              "      <td>0</td>\n",
              "      <td>0</td>\n",
              "      <td>0</td>\n",
              "      <td>1</td>\n",
              "      <td>1</td>\n",
              "      <td>0</td>\n",
              "      <td>0</td>\n",
              "      <td>0</td>\n",
              "      <td>0</td>\n",
              "      <td>0</td>\n",
              "      <td>0</td>\n",
              "      <td>0</td>\n",
              "      <td>0</td>\n",
              "      <td>0</td>\n",
              "      <td>0</td>\n",
              "      <td>0</td>\n",
              "      <td>0</td>\n",
              "      <td>0</td>\n",
              "      <td>0</td>\n",
              "      <td>0</td>\n",
              "      <td>0</td>\n",
              "      <td>0</td>\n",
              "      <td>0</td>\n",
              "      <td>0</td>\n",
              "      <td>0</td>\n",
              "      <td>0</td>\n",
              "      <td>0</td>\n",
              "      <td>0</td>\n",
              "      <td>0</td>\n",
              "      <td>0</td>\n",
              "      <td>0</td>\n",
              "      <td>1</td>\n",
              "      <td>0</td>\n",
              "      <td>0</td>\n",
              "      <td>0</td>\n",
              "      <td>1</td>\n",
              "      <td>0</td>\n",
              "    </tr>\n",
              "    <tr>\n",
              "      <th>1</th>\n",
              "      <td>73770</td>\n",
              "      <td>15642</td>\n",
              "      <td>4841</td>\n",
              "      <td>3829</td>\n",
              "      <td>4406</td>\n",
              "      <td>0.0</td>\n",
              "      <td>19.0</td>\n",
              "      <td>-0.052644</td>\n",
              "      <td>-0.086983</td>\n",
              "      <td>0</td>\n",
              "      <td>1</td>\n",
              "      <td>0</td>\n",
              "      <td>0</td>\n",
              "      <td>0</td>\n",
              "      <td>0</td>\n",
              "      <td>0</td>\n",
              "      <td>0</td>\n",
              "      <td>0</td>\n",
              "      <td>0</td>\n",
              "      <td>0</td>\n",
              "      <td>1</td>\n",
              "      <td>0</td>\n",
              "      <td>0</td>\n",
              "      <td>0</td>\n",
              "      <td>0</td>\n",
              "      <td>0</td>\n",
              "      <td>0</td>\n",
              "      <td>0</td>\n",
              "      <td>0</td>\n",
              "      <td>0</td>\n",
              "      <td>0</td>\n",
              "      <td>0</td>\n",
              "      <td>0</td>\n",
              "      <td>0</td>\n",
              "      <td>0</td>\n",
              "      <td>0</td>\n",
              "      <td>0</td>\n",
              "      <td>0</td>\n",
              "      <td>0</td>\n",
              "      <td>0</td>\n",
              "      <td>0</td>\n",
              "      <td>0</td>\n",
              "      <td>0</td>\n",
              "      <td>0</td>\n",
              "      <td>0</td>\n",
              "      <td>1</td>\n",
              "      <td>0</td>\n",
              "      <td>0</td>\n",
              "      <td>0</td>\n",
              "      <td>1</td>\n",
              "      <td>0</td>\n",
              "      <td>0</td>\n",
              "      <td>0</td>\n",
              "      <td>0</td>\n",
              "      <td>1</td>\n",
              "      <td>0</td>\n",
              "    </tr>\n",
              "    <tr>\n",
              "      <th>2</th>\n",
              "      <td>26203</td>\n",
              "      <td>53941</td>\n",
              "      <td>4229</td>\n",
              "      <td>222</td>\n",
              "      <td>4683</td>\n",
              "      <td>0.0</td>\n",
              "      <td>1513.0</td>\n",
              "      <td>-0.048135</td>\n",
              "      <td>-0.082812</td>\n",
              "      <td>0</td>\n",
              "      <td>0</td>\n",
              "      <td>0</td>\n",
              "      <td>0</td>\n",
              "      <td>0</td>\n",
              "      <td>0</td>\n",
              "      <td>0</td>\n",
              "      <td>0</td>\n",
              "      <td>0</td>\n",
              "      <td>0</td>\n",
              "      <td>0</td>\n",
              "      <td>0</td>\n",
              "      <td>0</td>\n",
              "      <td>1</td>\n",
              "      <td>0</td>\n",
              "      <td>0</td>\n",
              "      <td>0</td>\n",
              "      <td>0</td>\n",
              "      <td>0</td>\n",
              "      <td>0</td>\n",
              "      <td>0</td>\n",
              "      <td>0</td>\n",
              "      <td>0</td>\n",
              "      <td>0</td>\n",
              "      <td>0</td>\n",
              "      <td>0</td>\n",
              "      <td>0</td>\n",
              "      <td>0</td>\n",
              "      <td>0</td>\n",
              "      <td>0</td>\n",
              "      <td>0</td>\n",
              "      <td>0</td>\n",
              "      <td>0</td>\n",
              "      <td>0</td>\n",
              "      <td>0</td>\n",
              "      <td>0</td>\n",
              "      <td>0</td>\n",
              "      <td>0</td>\n",
              "      <td>0</td>\n",
              "      <td>0</td>\n",
              "      <td>0</td>\n",
              "      <td>1</td>\n",
              "      <td>0</td>\n",
              "      <td>0</td>\n",
              "      <td>0</td>\n",
              "      <td>1</td>\n",
              "      <td>0</td>\n",
              "    </tr>\n",
              "    <tr>\n",
              "      <th>3</th>\n",
              "      <td>380</td>\n",
              "      <td>102363</td>\n",
              "      <td>648</td>\n",
              "      <td>2185</td>\n",
              "      <td>988</td>\n",
              "      <td>0.0</td>\n",
              "      <td>2914.0</td>\n",
              "      <td>0.120970</td>\n",
              "      <td>0.102305</td>\n",
              "      <td>0</td>\n",
              "      <td>0</td>\n",
              "      <td>0</td>\n",
              "      <td>0</td>\n",
              "      <td>0</td>\n",
              "      <td>0</td>\n",
              "      <td>0</td>\n",
              "      <td>0</td>\n",
              "      <td>1</td>\n",
              "      <td>0</td>\n",
              "      <td>0</td>\n",
              "      <td>0</td>\n",
              "      <td>0</td>\n",
              "      <td>0</td>\n",
              "      <td>0</td>\n",
              "      <td>0</td>\n",
              "      <td>0</td>\n",
              "      <td>0</td>\n",
              "      <td>0</td>\n",
              "      <td>0</td>\n",
              "      <td>0</td>\n",
              "      <td>0</td>\n",
              "      <td>0</td>\n",
              "      <td>0</td>\n",
              "      <td>0</td>\n",
              "      <td>0</td>\n",
              "      <td>1</td>\n",
              "      <td>0</td>\n",
              "      <td>0</td>\n",
              "      <td>0</td>\n",
              "      <td>0</td>\n",
              "      <td>0</td>\n",
              "      <td>0</td>\n",
              "      <td>0</td>\n",
              "      <td>0</td>\n",
              "      <td>0</td>\n",
              "      <td>0</td>\n",
              "      <td>0</td>\n",
              "      <td>0</td>\n",
              "      <td>0</td>\n",
              "      <td>0</td>\n",
              "      <td>1</td>\n",
              "      <td>0</td>\n",
              "      <td>0</td>\n",
              "      <td>0</td>\n",
              "      <td>1</td>\n",
              "      <td>0</td>\n",
              "    </tr>\n",
              "    <tr>\n",
              "      <th>4</th>\n",
              "      <td>28195</td>\n",
              "      <td>38780</td>\n",
              "      <td>4841</td>\n",
              "      <td>3829</td>\n",
              "      <td>988</td>\n",
              "      <td>0.0</td>\n",
              "      <td>86.0</td>\n",
              "      <td>-0.058056</td>\n",
              "      <td>-0.081560</td>\n",
              "      <td>0</td>\n",
              "      <td>1</td>\n",
              "      <td>0</td>\n",
              "      <td>0</td>\n",
              "      <td>0</td>\n",
              "      <td>0</td>\n",
              "      <td>0</td>\n",
              "      <td>0</td>\n",
              "      <td>0</td>\n",
              "      <td>0</td>\n",
              "      <td>0</td>\n",
              "      <td>1</td>\n",
              "      <td>0</td>\n",
              "      <td>0</td>\n",
              "      <td>0</td>\n",
              "      <td>0</td>\n",
              "      <td>0</td>\n",
              "      <td>0</td>\n",
              "      <td>0</td>\n",
              "      <td>0</td>\n",
              "      <td>0</td>\n",
              "      <td>0</td>\n",
              "      <td>0</td>\n",
              "      <td>0</td>\n",
              "      <td>0</td>\n",
              "      <td>0</td>\n",
              "      <td>0</td>\n",
              "      <td>0</td>\n",
              "      <td>0</td>\n",
              "      <td>0</td>\n",
              "      <td>0</td>\n",
              "      <td>0</td>\n",
              "      <td>0</td>\n",
              "      <td>0</td>\n",
              "      <td>0</td>\n",
              "      <td>0</td>\n",
              "      <td>1</td>\n",
              "      <td>0</td>\n",
              "      <td>0</td>\n",
              "      <td>0</td>\n",
              "      <td>1</td>\n",
              "      <td>0</td>\n",
              "      <td>0</td>\n",
              "      <td>0</td>\n",
              "      <td>0</td>\n",
              "      <td>1</td>\n",
              "      <td>0</td>\n",
              "    </tr>\n",
              "  </tbody>\n",
              "</table>\n",
              "</div>"
            ],
            "text/plain": [
              "   TransactionId BatchId  ... PricingStrategy_2 PricingStrategy_4\n",
              "0          76871   36123  ...                 1                 0\n",
              "1          73770   15642  ...                 1                 0\n",
              "2          26203   53941  ...                 1                 0\n",
              "3            380  102363  ...                 1                 0\n",
              "4          28195   38780  ...                 1                 0\n",
              "\n",
              "[5 rows x 56 columns]"
            ]
          },
          "metadata": {
            "tags": []
          },
          "execution_count": 23
        }
      ]
    },
    {
      "cell_type": "markdown",
      "metadata": {
        "id": "1dX_1y5JGEGN",
        "colab_type": "text"
      },
      "source": [
        "# Train/Test Split"
      ]
    },
    {
      "cell_type": "code",
      "metadata": {
        "id": "PPGP-0yLcTly",
        "colab_type": "code",
        "outputId": "07a2c066-b4ec-4ae3-d383-37649d3cbc3c",
        "colab": {
          "base_uri": "https://localhost:8080/",
          "height": 70
        }
      },
      "source": [
        ""
      ],
      "execution_count": 0,
      "outputs": [
        {
          "output_type": "stream",
          "text": [
            "/usr/local/lib/python3.6/dist-packages/sklearn/externals/six.py:31: DeprecationWarning: The module is deprecated in version 0.21 and will be removed in version 0.23 since we've dropped support for Python 2.7. Please rely on the official version of six (https://pypi.org/project/six/).\n",
            "  \"(https://pypi.org/project/six/).\", DeprecationWarning)\n"
          ],
          "name": "stderr"
        }
      ]
    },
    {
      "cell_type": "code",
      "metadata": {
        "id": "NOM4At9fGIEh",
        "colab_type": "code",
        "colab": {}
      },
      "source": [
        "X = df1.drop(columns=[\"FraudResult\"])\n",
        "y = train[\"FraudResult\"]"
      ],
      "execution_count": 0,
      "outputs": []
    },
    {
      "cell_type": "code",
      "metadata": {
        "id": "SNRVcrDhcuJ7",
        "colab_type": "code",
        "outputId": "5ebee995-eed1-40e9-d198-f2eb5979ec05",
        "colab": {
          "base_uri": "https://localhost:8080/",
          "height": 33
        }
      },
      "source": [
        "X.shape,y.shape"
      ],
      "execution_count": 0,
      "outputs": [
        {
          "output_type": "execute_result",
          "data": {
            "text/plain": [
              "((140681, 55), (95662,))"
            ]
          },
          "metadata": {
            "tags": []
          },
          "execution_count": 27
        }
      ]
    },
    {
      "cell_type": "code",
      "metadata": {
        "id": "RAzbC411c5WQ",
        "colab_type": "code",
        "outputId": "7dbb3633-aa77-460d-8dd2-5fbf018e843b",
        "colab": {
          "base_uri": "https://localhost:8080/",
          "height": 33
        }
      },
      "source": [
        "train.shape,test.shape,df1.shape"
      ],
      "execution_count": 0,
      "outputs": [
        {
          "output_type": "execute_result",
          "data": {
            "text/plain": [
              "((95662, 16), (45019, 15), (140681, 56))"
            ]
          },
          "metadata": {
            "tags": []
          },
          "execution_count": 28
        }
      ]
    },
    {
      "cell_type": "code",
      "metadata": {
        "id": "p6AjrWc-GMTM",
        "colab_type": "code",
        "colab": {}
      },
      "source": [
        "X_trainn = X[:95662].copy()\n",
        "X_testt = X[95662:].copy()"
      ],
      "execution_count": 0,
      "outputs": []
    },
    {
      "cell_type": "code",
      "metadata": {
        "id": "kNskrNqIGO3C",
        "colab_type": "code",
        "outputId": "436d77e1-5e46-401f-f647-fa6c5ad63fd3",
        "colab": {
          "base_uri": "https://localhost:8080/",
          "height": 33
        }
      },
      "source": [
        "X_trainn.shape,y.shape"
      ],
      "execution_count": 0,
      "outputs": [
        {
          "output_type": "execute_result",
          "data": {
            "text/plain": [
              "((95662, 55), (95662,))"
            ]
          },
          "metadata": {
            "tags": []
          },
          "execution_count": 30
        }
      ]
    },
    {
      "cell_type": "code",
      "metadata": {
        "id": "rGq-vxavGQMM",
        "colab_type": "code",
        "outputId": "b5538eb8-f3d3-4e78-a3dd-f846e00523ce",
        "colab": {
          "base_uri": "https://localhost:8080/",
          "height": 84
        }
      },
      "source": [
        "X_train, X_test, y_train, y_test = train_test_split(X_trainn, y, test_size = 0.2, random_state = 0)\n",
        "print(\"Number transactions X_train dataset: \", X_train.shape)\n",
        "print(\"Number transactions y_train dataset: \", y_train.shape)\n",
        "print(\"Number transactions X_test dataset: \", X_test.shape)\n",
        "print(\"Number transactions y_test dataset: \", y_test.shape)"
      ],
      "execution_count": 0,
      "outputs": [
        {
          "output_type": "stream",
          "text": [
            "Number transactions X_train dataset:  (76529, 55)\n",
            "Number transactions y_train dataset:  (76529,)\n",
            "Number transactions X_test dataset:  (19133, 55)\n",
            "Number transactions y_test dataset:  (19133,)\n"
          ],
          "name": "stdout"
        }
      ]
    },
    {
      "cell_type": "code",
      "metadata": {
        "id": "OFAwqZI1cbrg",
        "colab_type": "code",
        "outputId": "503c7c13-e536-4425-c504-e6297f8f442a",
        "colab": {
          "base_uri": "https://localhost:8080/",
          "height": 150
        }
      },
      "source": [
        "print(\"Before OverSampling, counts of label '1': {}\".format(sum(y_train==1)))\n",
        "print(\"Before OverSampling, counts of label '0': {} \\n\".format(sum(y_train==0)))\n",
        "\n",
        "sm = SMOTE(random_state=2)\n",
        "X_train_res, y_train_res = sm.fit_sample(X_train, y_train.ravel())\n",
        "\n",
        "print('After OverSampling, the shape of train_X: {}'.format(X_train_res.shape))\n",
        "print('After OverSampling, the shape of train_y: {} \\n'.format(y_train_res.shape))\n",
        "\n",
        "print(\"After OverSampling, counts of label '1': {}\".format(sum(y_train_res==1)))\n",
        "print(\"After OverSampling, counts of label '0': {}\".format(sum(y_train_res==0)))"
      ],
      "execution_count": 0,
      "outputs": [
        {
          "output_type": "stream",
          "text": [
            "Before OverSampling, counts of label '1': 158\n",
            "Before OverSampling, counts of label '0': 76371 \n",
            "\n",
            "After OverSampling, the shape of train_X: (152742, 55)\n",
            "After OverSampling, the shape of train_y: (152742,) \n",
            "\n",
            "After OverSampling, counts of label '1': 76371\n",
            "After OverSampling, counts of label '0': 76371\n"
          ],
          "name": "stdout"
        }
      ]
    },
    {
      "cell_type": "markdown",
      "metadata": {
        "id": "MsRh6HpRGSi9",
        "colab_type": "text"
      },
      "source": [
        "# ML Model Training"
      ]
    },
    {
      "cell_type": "code",
      "metadata": {
        "id": "CVoFO6XoGWg3",
        "colab_type": "code",
        "outputId": "5bf96752-6b27-4d08-f8c3-2759e4999a87",
        "colab": {
          "base_uri": "https://localhost:8080/",
          "height": 388
        }
      },
      "source": [
        "logR = LogisticRegression()\n",
        "\n",
        "logR = logR.fit(X_train, y_train)\n",
        "\n",
        "y_pred_train = logR.predict(X_test)\n",
        "print(accuracy_score(y_test, y_pred_train))\n",
        "\n",
        "print('The accuracy score of the SVC is:', accuracy_score(y_test, y_pred_train))\n",
        "print('\\nThe test confusion matrix:\\n', confusion_matrix(y_test,y_pred_train))\n",
        "print('\\n\\nClassification Report:\\n\\n', classification_report(y_test, y_pred_train))\n"
      ],
      "execution_count": 0,
      "outputs": [
        {
          "output_type": "stream",
          "text": [
            "/usr/local/lib/python3.6/dist-packages/sklearn/linear_model/logistic.py:432: FutureWarning: Default solver will be changed to 'lbfgs' in 0.22. Specify a solver to silence this warning.\n",
            "  FutureWarning)\n"
          ],
          "name": "stderr"
        },
        {
          "output_type": "stream",
          "text": [
            "0.998484294151466\n",
            "The accuracy score of the SVC is: 0.998484294151466\n",
            "\n",
            "The test confusion matrix:\n",
            " [[19092     6]\n",
            " [   23    12]]\n",
            "\n",
            "\n",
            "Classification Report:\n",
            "\n",
            "               precision    recall  f1-score   support\n",
            "\n",
            "           0       1.00      1.00      1.00     19098\n",
            "           1       0.67      0.34      0.45        35\n",
            "\n",
            "    accuracy                           1.00     19133\n",
            "   macro avg       0.83      0.67      0.73     19133\n",
            "weighted avg       1.00      1.00      1.00     19133\n",
            "\n"
          ],
          "name": "stdout"
        }
      ]
    },
    {
      "cell_type": "code",
      "metadata": {
        "id": "us8Yt6K2iR6m",
        "colab_type": "code",
        "outputId": "3a75b40f-3c04-4e9e-c06d-73d0c70d3968",
        "colab": {
          "base_uri": "https://localhost:8080/",
          "height": 304
        }
      },
      "source": [
        "lr1 = LogisticRegression()\n",
        "y_pred_train = lr1.fit(X_train_res, y_train_res.ravel())\n",
        "\n",
        "a = y_pred_train.predict(X_test)\n",
        "\n",
        "print(accuracy_score(y_test, a))\n",
        "#print('The accuracy score of the LR is:', accuracy_score(y_test, y_pred_train))\n",
        "#print('\\nThe test confusion matrix:\\n', confusion_matrix(y_test,y_pred_train))\n",
        "print('\\n\\nClassification Report:\\n\\n', classification_report(y_test, a))"
      ],
      "execution_count": 0,
      "outputs": [
        {
          "output_type": "stream",
          "text": [
            "/usr/local/lib/python3.6/dist-packages/sklearn/linear_model/logistic.py:432: FutureWarning: Default solver will be changed to 'lbfgs' in 0.22. Specify a solver to silence this warning.\n",
            "  FutureWarning)\n"
          ],
          "name": "stderr"
        },
        {
          "output_type": "stream",
          "text": [
            "0.9967595254272722\n",
            "\n",
            "\n",
            "Classification Report:\n",
            "\n",
            "               precision    recall  f1-score   support\n",
            "\n",
            "           0       1.00      1.00      1.00     19098\n",
            "           1       0.35      0.94      0.52        35\n",
            "\n",
            "    accuracy                           1.00     19133\n",
            "   macro avg       0.68      0.97      0.76     19133\n",
            "weighted avg       1.00      1.00      1.00     19133\n",
            "\n"
          ],
          "name": "stdout"
        }
      ]
    },
    {
      "cell_type": "markdown",
      "metadata": {
        "id": "HrKbITAILX3j",
        "colab_type": "text"
      },
      "source": [
        "# Submission"
      ]
    },
    {
      "cell_type": "markdown",
      "metadata": {
        "id": "OFo69vK2hQ-u",
        "colab_type": "text"
      },
      "source": [
        "a = y_pred_train.predict(X_test)"
      ]
    },
    {
      "cell_type": "code",
      "metadata": {
        "id": "tP2Hggv4veV8",
        "colab_type": "code",
        "colab": {}
      },
      "source": [
        "predictions = logR.predict(X_testt)"
      ],
      "execution_count": 0,
      "outputs": []
    },
    {
      "cell_type": "markdown",
      "metadata": {
        "id": "kIPvK6ervgYG",
        "colab_type": "text"
      },
      "source": [
        "predictions = y_pred_train.predict(X_testt)"
      ]
    },
    {
      "cell_type": "code",
      "metadata": {
        "id": "AQoCtFVYvywk",
        "colab_type": "code",
        "colab": {}
      },
      "source": [
        "testing['FraudResult'] =  predictions"
      ],
      "execution_count": 0,
      "outputs": []
    },
    {
      "cell_type": "markdown",
      "metadata": {
        "id": "Rld04yMALhB4",
        "colab_type": "text"
      },
      "source": [
        "\n",
        "testing['FraudResult'] = y_pred_train.predict(X_testt)"
      ]
    },
    {
      "cell_type": "code",
      "metadata": {
        "id": "xfZZ0k47Lk8g",
        "colab_type": "code",
        "colab": {}
      },
      "source": [
        "testing = testing[[\"TransactionId\",'FraudResult']]"
      ],
      "execution_count": 0,
      "outputs": []
    },
    {
      "cell_type": "code",
      "metadata": {
        "id": "V8IR--g9v39t",
        "colab_type": "code",
        "outputId": "f99331ab-f8a8-4e30-d4bb-4882ca0bf8d8",
        "colab": {
          "base_uri": "https://localhost:8080/",
          "height": 1000
        }
      },
      "source": [
        "testing"
      ],
      "execution_count": 0,
      "outputs": [
        {
          "output_type": "execute_result",
          "data": {
            "text/html": [
              "<div>\n",
              "<style scoped>\n",
              "    .dataframe tbody tr th:only-of-type {\n",
              "        vertical-align: middle;\n",
              "    }\n",
              "\n",
              "    .dataframe tbody tr th {\n",
              "        vertical-align: top;\n",
              "    }\n",
              "\n",
              "    .dataframe thead th {\n",
              "        text-align: right;\n",
              "    }\n",
              "</style>\n",
              "<table border=\"1\" class=\"dataframe\">\n",
              "  <thead>\n",
              "    <tr style=\"text-align: right;\">\n",
              "      <th></th>\n",
              "      <th>TransactionId</th>\n",
              "      <th>FraudResult</th>\n",
              "    </tr>\n",
              "  </thead>\n",
              "  <tbody>\n",
              "    <tr>\n",
              "      <th>0</th>\n",
              "      <td>TransactionId_50600</td>\n",
              "      <td>0</td>\n",
              "    </tr>\n",
              "    <tr>\n",
              "      <th>1</th>\n",
              "      <td>TransactionId_95109</td>\n",
              "      <td>0</td>\n",
              "    </tr>\n",
              "    <tr>\n",
              "      <th>2</th>\n",
              "      <td>TransactionId_47357</td>\n",
              "      <td>0</td>\n",
              "    </tr>\n",
              "    <tr>\n",
              "      <th>3</th>\n",
              "      <td>TransactionId_28185</td>\n",
              "      <td>0</td>\n",
              "    </tr>\n",
              "    <tr>\n",
              "      <th>4</th>\n",
              "      <td>TransactionId_22140</td>\n",
              "      <td>0</td>\n",
              "    </tr>\n",
              "    <tr>\n",
              "      <th>5</th>\n",
              "      <td>TransactionId_134338</td>\n",
              "      <td>0</td>\n",
              "    </tr>\n",
              "    <tr>\n",
              "      <th>6</th>\n",
              "      <td>TransactionId_109096</td>\n",
              "      <td>0</td>\n",
              "    </tr>\n",
              "    <tr>\n",
              "      <th>7</th>\n",
              "      <td>TransactionId_14249</td>\n",
              "      <td>0</td>\n",
              "    </tr>\n",
              "    <tr>\n",
              "      <th>8</th>\n",
              "      <td>TransactionId_69896</td>\n",
              "      <td>0</td>\n",
              "    </tr>\n",
              "    <tr>\n",
              "      <th>9</th>\n",
              "      <td>TransactionId_91468</td>\n",
              "      <td>0</td>\n",
              "    </tr>\n",
              "    <tr>\n",
              "      <th>10</th>\n",
              "      <td>TransactionId_18862</td>\n",
              "      <td>0</td>\n",
              "    </tr>\n",
              "    <tr>\n",
              "      <th>11</th>\n",
              "      <td>TransactionId_29342</td>\n",
              "      <td>0</td>\n",
              "    </tr>\n",
              "    <tr>\n",
              "      <th>12</th>\n",
              "      <td>TransactionId_116873</td>\n",
              "      <td>0</td>\n",
              "    </tr>\n",
              "    <tr>\n",
              "      <th>13</th>\n",
              "      <td>TransactionId_81197</td>\n",
              "      <td>0</td>\n",
              "    </tr>\n",
              "    <tr>\n",
              "      <th>14</th>\n",
              "      <td>TransactionId_83120</td>\n",
              "      <td>0</td>\n",
              "    </tr>\n",
              "    <tr>\n",
              "      <th>15</th>\n",
              "      <td>TransactionId_40882</td>\n",
              "      <td>0</td>\n",
              "    </tr>\n",
              "    <tr>\n",
              "      <th>16</th>\n",
              "      <td>TransactionId_89297</td>\n",
              "      <td>0</td>\n",
              "    </tr>\n",
              "    <tr>\n",
              "      <th>17</th>\n",
              "      <td>TransactionId_112716</td>\n",
              "      <td>0</td>\n",
              "    </tr>\n",
              "    <tr>\n",
              "      <th>18</th>\n",
              "      <td>TransactionId_61794</td>\n",
              "      <td>0</td>\n",
              "    </tr>\n",
              "    <tr>\n",
              "      <th>19</th>\n",
              "      <td>TransactionId_124957</td>\n",
              "      <td>0</td>\n",
              "    </tr>\n",
              "    <tr>\n",
              "      <th>20</th>\n",
              "      <td>TransactionId_105927</td>\n",
              "      <td>0</td>\n",
              "    </tr>\n",
              "    <tr>\n",
              "      <th>21</th>\n",
              "      <td>TransactionId_23455</td>\n",
              "      <td>0</td>\n",
              "    </tr>\n",
              "    <tr>\n",
              "      <th>22</th>\n",
              "      <td>TransactionId_44325</td>\n",
              "      <td>0</td>\n",
              "    </tr>\n",
              "    <tr>\n",
              "      <th>23</th>\n",
              "      <td>TransactionId_121440</td>\n",
              "      <td>0</td>\n",
              "    </tr>\n",
              "    <tr>\n",
              "      <th>24</th>\n",
              "      <td>TransactionId_72401</td>\n",
              "      <td>0</td>\n",
              "    </tr>\n",
              "    <tr>\n",
              "      <th>25</th>\n",
              "      <td>TransactionId_122323</td>\n",
              "      <td>0</td>\n",
              "    </tr>\n",
              "    <tr>\n",
              "      <th>26</th>\n",
              "      <td>TransactionId_100360</td>\n",
              "      <td>0</td>\n",
              "    </tr>\n",
              "    <tr>\n",
              "      <th>27</th>\n",
              "      <td>TransactionId_121720</td>\n",
              "      <td>0</td>\n",
              "    </tr>\n",
              "    <tr>\n",
              "      <th>28</th>\n",
              "      <td>TransactionId_121119</td>\n",
              "      <td>0</td>\n",
              "    </tr>\n",
              "    <tr>\n",
              "      <th>29</th>\n",
              "      <td>TransactionId_39420</td>\n",
              "      <td>0</td>\n",
              "    </tr>\n",
              "    <tr>\n",
              "      <th>...</th>\n",
              "      <td>...</td>\n",
              "      <td>...</td>\n",
              "    </tr>\n",
              "    <tr>\n",
              "      <th>44989</th>\n",
              "      <td>TransactionId_59036</td>\n",
              "      <td>0</td>\n",
              "    </tr>\n",
              "    <tr>\n",
              "      <th>44990</th>\n",
              "      <td>TransactionId_73940</td>\n",
              "      <td>0</td>\n",
              "    </tr>\n",
              "    <tr>\n",
              "      <th>44991</th>\n",
              "      <td>TransactionId_71759</td>\n",
              "      <td>0</td>\n",
              "    </tr>\n",
              "    <tr>\n",
              "      <th>44992</th>\n",
              "      <td>TransactionId_124192</td>\n",
              "      <td>0</td>\n",
              "    </tr>\n",
              "    <tr>\n",
              "      <th>44993</th>\n",
              "      <td>TransactionId_58380</td>\n",
              "      <td>0</td>\n",
              "    </tr>\n",
              "    <tr>\n",
              "      <th>44994</th>\n",
              "      <td>TransactionId_116667</td>\n",
              "      <td>0</td>\n",
              "    </tr>\n",
              "    <tr>\n",
              "      <th>44995</th>\n",
              "      <td>TransactionId_60819</td>\n",
              "      <td>0</td>\n",
              "    </tr>\n",
              "    <tr>\n",
              "      <th>44996</th>\n",
              "      <td>TransactionId_74223</td>\n",
              "      <td>0</td>\n",
              "    </tr>\n",
              "    <tr>\n",
              "      <th>44997</th>\n",
              "      <td>TransactionId_56817</td>\n",
              "      <td>0</td>\n",
              "    </tr>\n",
              "    <tr>\n",
              "      <th>44998</th>\n",
              "      <td>TransactionId_138266</td>\n",
              "      <td>0</td>\n",
              "    </tr>\n",
              "    <tr>\n",
              "      <th>44999</th>\n",
              "      <td>TransactionId_17145</td>\n",
              "      <td>0</td>\n",
              "    </tr>\n",
              "    <tr>\n",
              "      <th>45000</th>\n",
              "      <td>TransactionId_42734</td>\n",
              "      <td>0</td>\n",
              "    </tr>\n",
              "    <tr>\n",
              "      <th>45001</th>\n",
              "      <td>TransactionId_51760</td>\n",
              "      <td>0</td>\n",
              "    </tr>\n",
              "    <tr>\n",
              "      <th>45002</th>\n",
              "      <td>TransactionId_62677</td>\n",
              "      <td>0</td>\n",
              "    </tr>\n",
              "    <tr>\n",
              "      <th>45003</th>\n",
              "      <td>TransactionId_14643</td>\n",
              "      <td>0</td>\n",
              "    </tr>\n",
              "    <tr>\n",
              "      <th>45004</th>\n",
              "      <td>TransactionId_34876</td>\n",
              "      <td>0</td>\n",
              "    </tr>\n",
              "    <tr>\n",
              "      <th>45005</th>\n",
              "      <td>TransactionId_9981</td>\n",
              "      <td>0</td>\n",
              "    </tr>\n",
              "    <tr>\n",
              "      <th>45006</th>\n",
              "      <td>TransactionId_31273</td>\n",
              "      <td>0</td>\n",
              "    </tr>\n",
              "    <tr>\n",
              "      <th>45007</th>\n",
              "      <td>TransactionId_68650</td>\n",
              "      <td>0</td>\n",
              "    </tr>\n",
              "    <tr>\n",
              "      <th>45008</th>\n",
              "      <td>TransactionId_2604</td>\n",
              "      <td>0</td>\n",
              "    </tr>\n",
              "    <tr>\n",
              "      <th>45009</th>\n",
              "      <td>TransactionId_46151</td>\n",
              "      <td>0</td>\n",
              "    </tr>\n",
              "    <tr>\n",
              "      <th>45010</th>\n",
              "      <td>TransactionId_109121</td>\n",
              "      <td>0</td>\n",
              "    </tr>\n",
              "    <tr>\n",
              "      <th>45011</th>\n",
              "      <td>TransactionId_30094</td>\n",
              "      <td>0</td>\n",
              "    </tr>\n",
              "    <tr>\n",
              "      <th>45012</th>\n",
              "      <td>TransactionId_73077</td>\n",
              "      <td>0</td>\n",
              "    </tr>\n",
              "    <tr>\n",
              "      <th>45013</th>\n",
              "      <td>TransactionId_135846</td>\n",
              "      <td>0</td>\n",
              "    </tr>\n",
              "    <tr>\n",
              "      <th>45014</th>\n",
              "      <td>TransactionId_116198</td>\n",
              "      <td>0</td>\n",
              "    </tr>\n",
              "    <tr>\n",
              "      <th>45015</th>\n",
              "      <td>TransactionId_24829</td>\n",
              "      <td>0</td>\n",
              "    </tr>\n",
              "    <tr>\n",
              "      <th>45016</th>\n",
              "      <td>TransactionId_102920</td>\n",
              "      <td>0</td>\n",
              "    </tr>\n",
              "    <tr>\n",
              "      <th>45017</th>\n",
              "      <td>TransactionId_128439</td>\n",
              "      <td>0</td>\n",
              "    </tr>\n",
              "    <tr>\n",
              "      <th>45018</th>\n",
              "      <td>TransactionId_45927</td>\n",
              "      <td>0</td>\n",
              "    </tr>\n",
              "  </tbody>\n",
              "</table>\n",
              "<p>45019 rows × 2 columns</p>\n",
              "</div>"
            ],
            "text/plain": [
              "              TransactionId  FraudResult\n",
              "0       TransactionId_50600            0\n",
              "1       TransactionId_95109            0\n",
              "2       TransactionId_47357            0\n",
              "3       TransactionId_28185            0\n",
              "4       TransactionId_22140            0\n",
              "5      TransactionId_134338            0\n",
              "6      TransactionId_109096            0\n",
              "7       TransactionId_14249            0\n",
              "8       TransactionId_69896            0\n",
              "9       TransactionId_91468            0\n",
              "10      TransactionId_18862            0\n",
              "11      TransactionId_29342            0\n",
              "12     TransactionId_116873            0\n",
              "13      TransactionId_81197            0\n",
              "14      TransactionId_83120            0\n",
              "15      TransactionId_40882            0\n",
              "16      TransactionId_89297            0\n",
              "17     TransactionId_112716            0\n",
              "18      TransactionId_61794            0\n",
              "19     TransactionId_124957            0\n",
              "20     TransactionId_105927            0\n",
              "21      TransactionId_23455            0\n",
              "22      TransactionId_44325            0\n",
              "23     TransactionId_121440            0\n",
              "24      TransactionId_72401            0\n",
              "25     TransactionId_122323            0\n",
              "26     TransactionId_100360            0\n",
              "27     TransactionId_121720            0\n",
              "28     TransactionId_121119            0\n",
              "29      TransactionId_39420            0\n",
              "...                     ...          ...\n",
              "44989   TransactionId_59036            0\n",
              "44990   TransactionId_73940            0\n",
              "44991   TransactionId_71759            0\n",
              "44992  TransactionId_124192            0\n",
              "44993   TransactionId_58380            0\n",
              "44994  TransactionId_116667            0\n",
              "44995   TransactionId_60819            0\n",
              "44996   TransactionId_74223            0\n",
              "44997   TransactionId_56817            0\n",
              "44998  TransactionId_138266            0\n",
              "44999   TransactionId_17145            0\n",
              "45000   TransactionId_42734            0\n",
              "45001   TransactionId_51760            0\n",
              "45002   TransactionId_62677            0\n",
              "45003   TransactionId_14643            0\n",
              "45004   TransactionId_34876            0\n",
              "45005    TransactionId_9981            0\n",
              "45006   TransactionId_31273            0\n",
              "45007   TransactionId_68650            0\n",
              "45008    TransactionId_2604            0\n",
              "45009   TransactionId_46151            0\n",
              "45010  TransactionId_109121            0\n",
              "45011   TransactionId_30094            0\n",
              "45012   TransactionId_73077            0\n",
              "45013  TransactionId_135846            0\n",
              "45014  TransactionId_116198            0\n",
              "45015   TransactionId_24829            0\n",
              "45016  TransactionId_102920            0\n",
              "45017  TransactionId_128439            0\n",
              "45018   TransactionId_45927            0\n",
              "\n",
              "[45019 rows x 2 columns]"
            ]
          },
          "metadata": {
            "tags": []
          },
          "execution_count": 46
        }
      ]
    },
    {
      "cell_type": "code",
      "metadata": {
        "id": "f6uLLJKWLllN",
        "colab_type": "code",
        "colab": {}
      },
      "source": [
        "\"\"\"Export the resulting submission\"\"\"\n",
        "testing.to_csv(r'Submission_6.csv', index = None, header=True)"
      ],
      "execution_count": 0,
      "outputs": []
    },
    {
      "cell_type": "markdown",
      "metadata": {
        "id": "hFLmFgu1ivIR",
        "colab_type": "text"
      },
      "source": [
        "from google.colab import files\n",
        "files.download('Submission_6.csv') "
      ]
    }
  ]
}